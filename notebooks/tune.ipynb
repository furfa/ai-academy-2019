{
 "cells": [
  {
   "cell_type": "code",
   "execution_count": 3,
   "metadata": {},
   "outputs": [
    {
     "name": "stdout",
     "output_type": "stream",
     "text": [
      "Populating the interactive namespace from numpy and matplotlib\n"
     ]
    },
    {
     "data": {
      "text/html": [
       "<script type=\"text/javascript\">window.PlotlyConfig = {MathJaxConfig: 'local'};</script><script type=\"text/javascript\">if (window.MathJax) {MathJax.Hub.Config({SVG: {font: \"STIX-Web\"}});}</script><script>requirejs.config({paths: { 'plotly': ['https://cdn.plot.ly/plotly-latest.min']},});if(!window._Plotly) {require(['plotly'],function(plotly) {window._Plotly=plotly;});}</script>"
      ],
      "text/vnd.plotly.v1+html": [
       "<script type=\"text/javascript\">window.PlotlyConfig = {MathJaxConfig: 'local'};</script><script type=\"text/javascript\">if (window.MathJax) {MathJax.Hub.Config({SVG: {font: \"STIX-Web\"}});}</script><script>requirejs.config({paths: { 'plotly': ['https://cdn.plot.ly/plotly-latest.min']},});if(!window._Plotly) {require(['plotly'],function(plotly) {window._Plotly=plotly;});}</script>"
      ]
     },
     "metadata": {},
     "output_type": "display_data"
    }
   ],
   "source": [
    "from tqdm import tqdm\n",
    "import pandas as pd\n",
    "import numpy as np\n",
    "import scipy\n",
    "import sys\n",
    "sys.path.append(\"..\")\n",
    "import os\n",
    "pd.set_option(\"max_columns\", 10000)\n",
    "\n",
    "%pylab inline\n",
    "import seaborn as sns\n",
    "\n",
    "import warnings\n",
    "warnings.filterwarnings('ignore')\n",
    "\n",
    "import json\n",
    "from IPython import display\n",
    "\n",
    "from tqdm import tqdm, tqdm_notebook, tqdm_pandas\n",
    "tqdm.pandas()\n",
    "\n",
    "import copy\n",
    "\n",
    "from Scripts.saving import submit\n",
    "\n",
    "from sklearn.model_selection import GridSearchCV, RandomizedSearchCV\n",
    "from datetime import datetime\n",
    "\n",
    "\n",
    "from Scripts.utils import *\n",
    "\n",
    "import json\n",
    "\n",
    "import featuretools as ft\n",
    "\n",
    "from plotly.offline import download_plotlyjs, init_notebook_mode, plot, iplot\n",
    "import plotly.graph_objs as go\n",
    "\n",
    "init_notebook_mode(connected=True)"
   ]
  },
  {
   "cell_type": "code",
   "execution_count": 4,
   "metadata": {},
   "outputs": [],
   "source": [
    "base_dir = \"..\"\n",
    "input_dir = open( os.path.join(base_dir, \"datadir.txt\"), \"r\").read()[:-1]\n",
    "pred_dir = os.path.join(base_dir, \"predictions\")\n",
    "processed_dir = os.path.join(input_dir, \"processed\")\n",
    "generate_dir = os.path.join(input_dir, \"generate\")"
   ]
  },
  {
   "cell_type": "code",
   "execution_count": 5,
   "metadata": {},
   "outputs": [],
   "source": [
    "train = pd.read_csv(\n",
    "    os.path.join(processed_dir, \"train_df_0.814.csv\"), index_col=0\n",
    ")\n",
    "test = pd.read_csv(\n",
    "    os.path.join(processed_dir, \"test_df_0.814.csv\"), index_col=0\n",
    ")\n",
    "y_train = pd.read_csv( os.path.join(input_dir,\"processed\", 'train_all_JSON.csv'), index_col=0 ).skilled"
   ]
  },
  {
   "cell_type": "code",
   "execution_count": 6,
   "metadata": {},
   "outputs": [],
   "source": [
    "train_timeseries_no_zeros = pd.read_csv(\n",
    "        os.path.join(processed_dir, \"train_timeseries_no_zeros.csv\"), index_col=0\n",
    "    )\n",
    "train_timeseries_no_zeros.drop(\n",
    "            [c for c in train_timeseries_no_zeros.columns if c.endswith(\"mode\")],\n",
    "            axis=1,\n",
    "            inplace=True\n",
    ")\n",
    "train_ability_upgrades = pd.read_csv(\n",
    "        os.path.join(processed_dir, \"train_ability_upgrades.csv\"), index_col=0\n",
    "    )\n",
    "train_damage_targets = pd.read_csv(\n",
    "        os.path.join(processed_dir, \"train_damage_targets.csv\"), index_col=0\n",
    "    )\n",
    "train_team = pd.read_csv(\n",
    "        os.path.join(processed_dir, \"train_team.csv\"), index_col=0\n",
    "    )\n",
    "train_purchase = pd.read_csv(\n",
    "        os.path.join(processed_dir, \"train_item_purchase_log.csv\"), index_col=0\n",
    "    )"
   ]
  },
  {
   "cell_type": "code",
   "execution_count": 7,
   "metadata": {},
   "outputs": [],
   "source": [
    "test_timeseries_no_zeros = pd.read_csv(\n",
    "        os.path.join(processed_dir, \"test_timeseries_no_zeros.csv\"), index_col=0\n",
    "    )\n",
    "test_timeseries_no_zeros.drop(\n",
    "            [c for c in test_timeseries_no_zeros.columns if c.endswith(\"mode\")],\n",
    "            axis=1,\n",
    "            inplace=True\n",
    ")\n",
    "test_ability_upgrades = pd.read_csv(\n",
    "        os.path.join(processed_dir, \"test_ability_upgrades.csv\"), index_col=0\n",
    "    )\n",
    "test_damage_targets = pd.read_csv(\n",
    "        os.path.join(processed_dir, \"test_damage_targets.csv\"), index_col=0\n",
    "    )\n",
    "test_team = pd.read_csv(\n",
    "        os.path.join(processed_dir, \"test_team.csv\"), index_col=0\n",
    "    )\n",
    "test_purchase = pd.read_csv(\n",
    "        os.path.join(processed_dir, \"test_item_purchase_log.csv\"), index_col=0\n",
    "    )"
   ]
  },
  {
   "cell_type": "code",
   "execution_count": null,
   "metadata": {},
   "outputs": [],
   "source": [
    "train_dfs = [\n",
    "    #(train_timeseries_no_zeros, \"timeseries_no_zeros\" ),\n",
    "    #(train_ability_upgrades, \"ability_upgrades\"),\n",
    "    #(train_damage_targets, \"damage_targets\"),\n",
    "    (train_purchase, \"purchase\"),\n",
    "]"
   ]
  },
  {
   "cell_type": "code",
   "execution_count": null,
   "metadata": {},
   "outputs": [],
   "source": [
    "test_dfs = [\n",
    "    #(test_timeseries_no_zeros, \"timeseries_no_zeros\" ),\n",
    "    #(test_ability_upgrades, \"ability_upgrades\"),\n",
    "    #(test_damage_targets, \"damage_targets\"),\n",
    "    (test_purchase, \"purchase\"),\n",
    "]"
   ]
  },
  {
   "cell_type": "code",
   "execution_count": null,
   "metadata": {},
   "outputs": [],
   "source": [
    "def fix_index(df):\n",
    "    index = df.index\n",
    "    df[\"id\"] = index\n",
    "    return df.set_index(\"id\")"
   ]
  },
  {
   "cell_type": "code",
   "execution_count": null,
   "metadata": {
    "scrolled": false
   },
   "outputs": [
    {
     "name": "stderr",
     "output_type": "stream",
     "text": [
      "  0%|          | 0/1 [00:00<?, ?it/s]"
     ]
    },
    {
     "name": "stdout",
     "output_type": "stream",
     "text": [
      "------------------------------\n",
      "purchase\n",
      "------------------------------\n",
      "---------------\n",
      "Entityset: players\n",
      "  Entities:\n",
      "    train_players [Rows: 99871, Columns: 469]\n",
      "  Relationships:\n",
      "    No relationships\n",
      "Start dfs\n"
     ]
    }
   ],
   "source": [
    "for i in tqdm( range(len(train_dfs)) ):\n",
    "    temp_train = fix_index( train_dfs[i][0] )\n",
    "    temp_test = fix_index( test_dfs[i][0] )\n",
    "    df_name = train_dfs[i][1]\n",
    "    \n",
    "    print(\"-\"*30)\n",
    "    print(df_name)\n",
    "    print(\"-\"*30)\n",
    "    \n",
    "    train_gen, test_gen = generate_for_train_test(\n",
    "                            train = temp_train, \n",
    "                            test = temp_test,\n",
    "                    \n",
    "                            shuffle=True,\n",
    "                            trans_primitives=['divide_numeric', 'multiply_numeric', 'isin', 'diff'],\n",
    "                            var_types={}, \n",
    "                            N_FEATURES=1500, \n",
    "    )\n",
    "    train_gen = pd.concat([temp_train, train_gen],axis=1)\n",
    "    test_gen = pd.concat([temp_test, test_gen],axis=1)\n",
    "    \n",
    "    # Select columns in train and test\n",
    "    in_train_and_test = list(\n",
    "        set(train_gen.columns).intersection( set(test_gen.columns) )\n",
    "    )\n",
    "    train_gen = train_gen[in_train_and_test]\n",
    "    test_gen = test_gen[in_train_and_test]\n",
    "    \n",
    "    best_features = get_most_importance(train_gen, y_train, n_inp = 400)\n",
    "    \n",
    "    date = datetime.now()\n",
    "    suffix = f\"[{date.day}.{date.month}]{date.hour}:{date.minute}\"\n",
    "    \n",
    "    save_train_test(train_gen[best_features], test_gen[best_features], base_name=df_name+suffix, path=generate_dir)\n",
    "    "
   ]
  },
  {
   "cell_type": "code",
   "execution_count": null,
   "metadata": {},
   "outputs": [],
   "source": [
    "list_prim = ft.primitives.list_primitives()\n",
    "list_prim[list_prim.type == \"transform\"]"
   ]
  },
  {
   "cell_type": "code",
   "execution_count": 85,
   "metadata": {},
   "outputs": [],
   "source": [
    "model = cb.CatBoostClassifier()\n",
    "\n",
    "feature_score = pd.DataFrame(list(\n",
    "                                zip(\n",
    "                                    train_gen.dtypes.index, \n",
    "                                    model.get_feature_importance(\n",
    "                                                                cb.Pool(train_gen, label=y_train)\n",
    "                                                                )\n",
    "                                    )\n",
    "                                ),\n",
    "                columns=['Feature','Score'])"
   ]
  },
  {
   "cell_type": "code",
   "execution_count": 89,
   "metadata": {},
   "outputs": [
    {
     "data": {
      "text/plain": [
       "(1585,)"
      ]
     },
     "execution_count": 89,
     "metadata": {},
     "output_type": "execute_result"
    }
   ],
   "source": [
    "train_gen.dtypes.index.shape"
   ]
  }
 ],
 "metadata": {
  "kernelspec": {
   "display_name": "Python 3",
   "language": "python",
   "name": "python3"
  },
  "language_info": {
   "codemirror_mode": {
    "name": "ipython",
    "version": 3
   },
   "file_extension": ".py",
   "mimetype": "text/x-python",
   "name": "python",
   "nbconvert_exporter": "python",
   "pygments_lexer": "ipython3",
   "version": "3.6.5"
  }
 },
 "nbformat": 4,
 "nbformat_minor": 2
}
