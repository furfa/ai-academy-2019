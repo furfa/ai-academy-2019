{
  "cells": [
    {
      "cell_type": "code",
      "source": [
        "from tqdm import tqdm\n",
        "import pandas as pd\n",
        "import numpy as np\n",
        "import sys\n",
        "sys.path.append(\"..\")\n",
        "import os\n",
        "os.chdir(\"/home/furfa/work/ai-academy2019/notebooks\")\n",
        "pd.set_option(\"max_columns\", 10000)\n",
        "\n",
        "%pylab inline\n",
        "import seaborn as sns\n",
        "\n",
        "import warnings\n",
        "warnings.simplefilter(\"ignore\")\n",
        "\n",
        "import json\n",
        "from IPython import display\n",
        "\n",
        "from tqdm import tqdm\n",
        "from Scripts.saving import submit"
      ],
      "outputs": [
        {
          "output_type": "stream",
          "name": "stdout",
          "text": [
            "Populating the interactive namespace from numpy and matplotlib\n"
          ]
        }
      ],
      "execution_count": 25,
      "metadata": {
        "collapsed": false,
        "outputHidden": false,
        "inputHidden": false
      }
    },
    {
      "cell_type": "code",
      "source": [
        "base_dir = \"..\"\n",
        "input_dir = os.path.join(base_dir, \"input\")\n",
        "pred_dir = os.path.join(base_dir, \"predictions\")\n",
        "processed_dir = os.path.join(input_dir, \"processed\")\n",
        "!tree {input_dir}"
      ],
      "outputs": [
        {
          "output_type": "stream",
          "name": "stdout",
          "text": [
            "\u001b[01;34m../input\u001b[00m\r\n",
            "|-- \u001b[01;31mai-academy-2019-skill-prediction-data-csv-v1.zip\u001b[00m\r\n",
            "|-- \u001b[01;31mai-academy-2019-skill-prediction-data-jsonlines.zip\u001b[00m\r\n",
            "|-- dota2_abilities.csv\r\n",
            "|-- dota2_heroes.csv\r\n",
            "|-- dota2_items.csv\r\n",
            "|-- dota2_skill_test.csv\r\n",
            "|-- dota2_skill_test.jsonlines\r\n",
            "|-- dota2_skill_train.csv\r\n",
            "|-- dota2_skill_train.jsonlines\r\n",
            "`-- \u001b[01;34mprocessed\u001b[00m\r\n",
            "    |-- test_proc.csv\r\n",
            "    |-- test_team.csv\r\n",
            "    |-- train_proc.csv\r\n",
            "    `-- train_team.csv\r\n",
            "\r\n",
            "1 directory, 13 files\r\n"
          ]
        }
      ],
      "execution_count": 26,
      "metadata": {
        "collapsed": false,
        "outputHidden": false,
        "inputHidden": false
      }
    },
    {
      "cell_type": "code",
      "source": [
        "# aditional\n",
        "abilities = pd.read_csv( os.path.join(input_dir, 'dota2_abilities.csv') )\n",
        "items = pd.read_csv( os.path.join(input_dir, 'dota2_items.csv') )\n",
        "heroes = pd.read_csv( os.path.join(input_dir, 'dota2_heroes.csv') )\n",
        "# Main dataset\n",
        "train = pd.read_csv( os.path.join(input_dir, 'dota2_skill_train.csv'), index_col=0 )\n",
        "test = pd.read_csv( os.path.join(input_dir, 'dota2_skill_test.csv'), index_col=0 )\n",
        "\n",
        "new_features_train = pd.read_csv( os.path.join(processed_dir, 'train_proc.csv'), index_col=0 )\n",
        "new_features_test = pd.read_csv( os.path.join(processed_dir, 'test_proc.csv'), index_col=0 )\n",
        "\n",
        "team_train = pd.read_csv( os.path.join(processed_dir, 'train_team.csv'), index_col=0 )\n",
        "team_test = pd.read_csv( os.path.join(processed_dir, 'test_team.csv'), index_col=0 )"
      ],
      "outputs": [],
      "execution_count": 27,
      "metadata": {
        "collapsed": false,
        "outputHidden": false,
        "inputHidden": false
      }
    },
    {
      "cell_type": "code",
      "source": [
        "print(\"Deleted\", set(train.columns).difference( set(test.columns) ) )\n",
        "\n",
        "y_train = train.skilled\n",
        "train.drop([\"skilled\"], 1, inplace = True)"
      ],
      "outputs": [
        {
          "output_type": "stream",
          "name": "stdout",
          "text": [
            "Deleted {'skilled'}\n"
          ]
        }
      ],
      "execution_count": 28,
      "metadata": {
        "collapsed": false,
        "outputHidden": false,
        "inputHidden": false
      }
    },
    {
      "cell_type": "code",
      "source": [
        "# Transformation\n",
        "def apply(func, columns):\n",
        "    global train, test\n",
        "    for c in tqdm(columns):\n",
        "        train[c] = train[c].apply(func)\n",
        "        test[c] = test[c].apply(func)\n",
        "\n\n",
        "def tr(x):\n",
        "    if x=='dire':\n",
        "        return 0.0\n",
        "    elif x=='radiant':\n",
        "        return 1.0\n",
        "apply(tr, [\"player_team\", \"winner_team\"])"
      ],
      "outputs": [
        {
          "output_type": "stream",
          "name": "stderr",
          "text": [
            "100%|██████████| 2/2 [00:00<00:00, 15.04it/s]\n"
          ]
        }
      ],
      "execution_count": 29,
      "metadata": {
        "collapsed": false,
        "outputHidden": false,
        "inputHidden": false
      }
    },
    {
      "cell_type": "code",
      "source": [
        "# New features\n",
        "train = pd.concat((train, new_features_train, team_train), axis=1)\n",
        "test = pd.concat((test, new_features_test, team_test), axis=1)\n",
        "\n",
        "ntrain = train.shape[0]\n",
        "ntest = test.shape[0]\n",
        "all_data = pd.concat((train, test), axis=0)"
      ],
      "outputs": [],
      "execution_count": 30,
      "metadata": {
        "collapsed": false,
        "outputHidden": false,
        "inputHidden": false
      }
    },
    {
      "cell_type": "code",
      "source": [
        "all_data['_win'] = all_data['player_team'] == all_data['winner_team']\n",
        "all_data['_kda'] = (all_data.kills + all_data.assists)/ all_data.deaths\n",
        "all_data['_duration_min'] = all_data.duration / 60\n",
        "all_data['__gold_dame'] = all_data['_duration_min'] * all_data.gold_per_min\n",
        "all_data['__xp_dame'] = all_data['_duration_min'] * all_data.xp_per_min\n",
        "all_data['__free_gold'] = all_data['__gold_dame'] - all_data.gold_spent"
      ],
      "outputs": [],
      "execution_count": 34,
      "metadata": {
        "collapsed": false,
        "outputHidden": false,
        "inputHidden": false
      }
    },
    {
      "cell_type": "code",
      "source": [
        "all_data[\"radiant_win_%\"] = abs( all_data[\"radiant_win_%\"] - (1.0 * all_data.player_team) )"
      ],
      "outputs": [],
      "execution_count": 35,
      "metadata": {
        "collapsed": false,
        "outputHidden": false,
        "inputHidden": false
      }
    },
    {
      "cell_type": "code",
      "source": [
        "train = all_data[:ntrain]\n",
        "test = all_data[ntrain:]"
      ],
      "outputs": [],
      "execution_count": 36,
      "metadata": {
        "collapsed": false,
        "outputHidden": false,
        "inputHidden": false
      }
    },
    {
      "cell_type": "code",
      "source": [
        "from sklearn.model_selection import cross_val_score\n",
        "import catboost as cb\n",
        "import lightgbm as lgb"
      ],
      "outputs": [],
      "execution_count": 40,
      "metadata": {
        "collapsed": false,
        "outputHidden": false,
        "inputHidden": false
      }
    },
    {
      "cell_type": "code",
      "source": [
        "cross_val_score(\n",
        "    lgb.LGBMClassifier(),\n",
        "    train,\n",
        "    y_train,\n",
        "    scoring=\"accuracy\",\n",
        "    cv = 4,\n",
        "    verbose=1\n",
        ")"
      ],
      "outputs": [
        {
          "output_type": "stream",
          "name": "stderr",
          "text": [
            "[Parallel(n_jobs=1)]: Done   4 out of   4 | elapsed:   13.1s finished\n"
          ]
        },
        {
          "output_type": "execute_result",
          "execution_count": 41,
          "data": {
            "text/plain": [
              "array([0.76158436, 0.75893143, 0.76140505, 0.76084431])"
            ]
          },
          "metadata": {}
        }
      ],
      "execution_count": 41,
      "metadata": {
        "collapsed": false,
        "outputHidden": false,
        "inputHidden": false
      }
    },
    {
      "cell_type": "code",
      "source": [],
      "outputs": [],
      "execution_count": 22,
      "metadata": {
        "collapsed": false,
        "outputHidden": false,
        "inputHidden": false
      }
    },
    {
      "cell_type": "code",
      "source": [
        "model = lgb.LGBMClassifier().fit(train, y_train)"
      ],
      "outputs": [],
      "execution_count": null,
      "metadata": {
        "collapsed": false,
        "outputHidden": false,
        "inputHidden": false
      }
    }
  ],
  "metadata": {
    "kernel_info": {
      "name": "python3"
    },
    "language_info": {
      "name": "python",
      "version": "3.6.5",
      "mimetype": "text/x-python",
      "codemirror_mode": {
        "name": "ipython",
        "version": 3
      },
      "pygments_lexer": "ipython3",
      "nbconvert_exporter": "python",
      "file_extension": ".py"
    },
    "kernelspec": {
      "name": "python3",
      "language": "python",
      "display_name": "Python 3"
    },
    "nteract": {
      "version": "0.12.3"
    }
  },
  "nbformat": 4,
  "nbformat_minor": 4
}