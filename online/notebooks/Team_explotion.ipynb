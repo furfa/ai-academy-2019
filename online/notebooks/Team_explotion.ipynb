{
  "cells": [
    {
      "cell_type": "code",
      "source": [
        "from tqdm import tqdm\n",
        "import pandas as pd\n",
        "import numpy as np\n",
        "import sys\n",
        "sys.path.append(\"..\")\n",
        "import os\n",
        "os.chdir(\"/home/furfa/work/ai-academy2019/notebooks\")\n",
        "pd.set_option(\"max_columns\", 10000)\n",
        "\n",
        "%pylab inline\n",
        "import seaborn as sns\n",
        "\n",
        "import warnings\n",
        "warnings.simplefilter(\"ignore\")\n",
        "\n",
        "import json\n",
        "from IPython import display\n",
        "\nfrom tqdm import tqdm"
      ],
      "outputs": [
        {
          "output_type": "stream",
          "name": "stdout",
          "text": [
            "Populating the interactive namespace from numpy and matplotlib\n"
          ]
        }
      ],
      "execution_count": 1,
      "metadata": {
        "collapsed": false,
        "outputHidden": false,
        "inputHidden": false
      }
    },
    {
      "cell_type": "code",
      "source": [
        "base_dir = \"..\"\n",
        "input_dir = os.path.join(base_dir, \"input\")\n",
        "processed_dir = os.path.join(input_dir, \"processed\")\n",
        "os.listdir( input_dir )"
      ],
      "outputs": [
        {
          "output_type": "execute_result",
          "execution_count": 2,
          "data": {
            "text/plain": [
              "['dota2_abilities.csv',\n",
              " 'dota2_skill_train.csv',\n",
              " 'dota2_skill_test.csv',\n",
              " 'ai-academy-2019-skill-prediction-data-csv-v1.zip',\n",
              " 'dota2_skill_test.jsonlines',\n",
              " 'processed',\n",
              " 'dota2_items.csv',\n",
              " 'dota2_heroes.csv',\n",
              " 'ai-academy-2019-skill-prediction-data-jsonlines.zip',\n",
              " 'dota2_skill_train.jsonlines']"
            ]
          },
          "metadata": {}
        }
      ],
      "execution_count": 2,
      "metadata": {
        "collapsed": false,
        "outputHidden": false,
        "inputHidden": false
      }
    },
    {
      "cell_type": "code",
      "source": [
        "train_main = pd.read_csv( os.path.join(input_dir, 'dota2_skill_train.csv'), index_col=0 )\n",
        "test_main = pd.read_csv( os.path.join(input_dir, 'dota2_skill_test.csv'), index_col=0 )"
      ],
      "outputs": [],
      "execution_count": 3,
      "metadata": {
        "collapsed": false,
        "outputHidden": false,
        "inputHidden": false
      }
    },
    {
      "cell_type": "code",
      "source": [
        "train_proc = pd.read_csv( os.path.join(processed_dir, \"train_proc.csv\") )\n",
        "test_proc = pd.read_csv( os.path.join(processed_dir, \"test_proc.csv\") )"
      ],
      "outputs": [],
      "execution_count": 4,
      "metadata": {
        "collapsed": false,
        "outputHidden": false,
        "inputHidden": false
      }
    },
    {
      "cell_type": "code",
      "source": [
        "radiant_win = pd.concat( (train_main, test_main), axis=0).winner_team == \"radiant\""
      ],
      "outputs": [],
      "execution_count": 33,
      "metadata": {
        "collapsed": false,
        "outputHidden": false,
        "inputHidden": false
      }
    },
    {
      "cell_type": "code",
      "source": [
        "train_main.shape[0] + test_main.shape[0]"
      ],
      "outputs": [
        {
          "output_type": "execute_result",
          "execution_count": 34,
          "data": {
            "text/plain": [
              "143136"
            ]
          },
          "metadata": {}
        }
      ],
      "execution_count": 34,
      "metadata": {
        "collapsed": false,
        "outputHidden": false,
        "inputHidden": false
      }
    },
    {
      "cell_type": "code",
      "source": [
        "columns_selection = [f\"{base_name}_hero_{num}\" for num in range(0,5) for base_name in (\"dire\", \"radiant\")]\n",
        "train_team = train_proc[columns_selection]\n",
        "test_team = test_proc[columns_selection]"
      ],
      "outputs": [],
      "execution_count": 6,
      "metadata": {
        "collapsed": false,
        "outputHidden": false,
        "inputHidden": false
      }
    },
    {
      "cell_type": "code",
      "source": [
        "np.unique(train_team.values.reshape(-1))"
      ],
      "outputs": [
        {
          "output_type": "execute_result",
          "execution_count": 7,
          "data": {
            "text/plain": [
              "array([  1,   2,   3,   4,   5,   6,   7,   8,   9,  10,  11,  12,  13,\n",
              "        14,  15,  16,  17,  18,  19,  20,  21,  22,  23,  25,  26,  27,\n",
              "        28,  29,  30,  31,  32,  33,  34,  35,  36,  37,  38,  39,  40,\n",
              "        41,  42,  43,  44,  45,  46,  47,  48,  49,  50,  51,  52,  53,\n",
              "        54,  55,  56,  57,  58,  59,  60,  61,  62,  63,  64,  65,  66,\n",
              "        67,  68,  69,  70,  71,  72,  73,  74,  75,  76,  77,  78,  79,\n",
              "        80,  81,  82,  83,  84,  85,  86,  87,  88,  89,  90,  91,  92,\n",
              "        93,  94,  95,  96,  97,  98,  99, 100, 101, 102, 103, 104, 105,\n",
              "       106, 107, 108, 109, 110, 111, 112, 113, 114, 119, 120, 121, 129])"
            ]
          },
          "metadata": {}
        }
      ],
      "execution_count": 7,
      "metadata": {
        "collapsed": false,
        "outputHidden": false,
        "inputHidden": false
      }
    },
    {
      "cell_type": "code",
      "source": [
        "ntrain = train_team.shape[0]\n",
        "ntest = test_team.shape[0]\n",
        "all_data_team = pd.concat((train_team, test_team), axis=0)"
      ],
      "outputs": [],
      "execution_count": 8,
      "metadata": {
        "collapsed": false,
        "outputHidden": false,
        "inputHidden": false
      }
    },
    {
      "cell_type": "code",
      "source": [
        "def team_encode(df, team):\n",
        "    df_size = df.shape[0]\n",
        "    enc = np.zeros((df_size, 129))\n",
        "    columns_selection = [f\"{team}_hero_{num}\" for num in range(0,5)]\n",
        "    sel_team = df[columns_selection].values\n",
        "    for i in tqdm(range(df_size)):\n",
        "        for hero in range(1, 129+1):\n",
        "            if hero in sel_team[i]:\n",
        "                enc[i, hero-1] += 1\n",
        "    \n",
        "    return enc"
      ],
      "outputs": [],
      "execution_count": 9,
      "metadata": {
        "collapsed": false,
        "outputHidden": false,
        "inputHidden": false
      }
    },
    {
      "cell_type": "code",
      "source": [
        "data = np.hstack( \n",
        "    ( \n",
        "        team_encode(all_data_team, \"dire\"), \n",
        "        team_encode(all_data_team, \"radiant\") \n",
        "    )\n",
        ")"
      ],
      "outputs": [
        {
          "output_type": "stream",
          "name": "stderr",
          "text": [
            "100%|██████████| 143136/143136 [01:32<00:00, 1546.82it/s]\n",
            "100%|██████████| 143136/143136 [01:32<00:00, 1552.74it/s]\n"
          ]
        }
      ],
      "execution_count": 10,
      "metadata": {
        "collapsed": false,
        "outputHidden": false,
        "inputHidden": false
      }
    },
    {
      "cell_type": "code",
      "source": [
        "from sklearn.model_selection import cross_val_score, cross_val_predict\n",
        "from sklearn.neighbors import KNeighborsClassifier"
      ],
      "outputs": [],
      "execution_count": 15,
      "metadata": {
        "collapsed": false,
        "outputHidden": false,
        "inputHidden": false
      }
    },
    {
      "cell_type": "code",
      "source": [
        "cross_val_score(\n",
        "    KNeighborsClassifier(), \n",
        "    data, \n",
        "    radiant_win, \n",
        "    cv=6,\n",
        "    n_jobs=-1,\n",
        "    verbose=1\n",
        ")"
      ],
      "outputs": [
        {
          "output_type": "stream",
          "name": "stderr",
          "text": [
            "[Parallel(n_jobs=-1)]: Done   6 out of   6 | elapsed: 44.0min finished\n"
          ]
        },
        {
          "output_type": "execute_result",
          "execution_count": 12,
          "data": {
            "text/plain": [
              "array([0.419056  , 0.42672703, 0.42538565, 0.41679242, 0.41964286,\n",
              "       0.42211603])"
            ]
          },
          "metadata": {}
        }
      ],
      "execution_count": 12,
      "metadata": {
        "collapsed": false,
        "outputHidden": false,
        "inputHidden": false
      }
    },
    {
      "cell_type": "code",
      "source": [
        "pred = cross_val_predict(\n",
        "    KNeighborsClassifier(), \n",
        "    data, \n",
        "    radiant_win, \n",
        "    cv=6,\n",
        "    n_jobs=-1,\n",
        "    verbose=2,\n",
        "    method='predict_proba'\n",
        ")"
      ],
      "outputs": [
        {
          "output_type": "stream",
          "name": "stderr",
          "text": [
            "[Parallel(n_jobs=-1)]: Done   3 out of   6 | elapsed: 46.9min remaining: 46.9min\n",
            "[Parallel(n_jobs=-1)]: Done   6 out of   6 | elapsed: 47.1min finished\n"
          ]
        },
        {
          "output_type": "execute_result",
          "execution_count": 35,
          "data": {
            "text/plain": [
              "array([[0.8, 0.2],\n",
              "       [0.6, 0.4],\n",
              "       [0.2, 0.8],\n",
              "       ...,\n",
              "       [0.2, 0.8],\n",
              "       [0.4, 0.6],\n",
              "       [0.8, 0.2]])"
            ]
          },
          "metadata": {}
        }
      ],
      "execution_count": 35,
      "metadata": {
        "collapsed": false,
        "outputHidden": false,
        "inputHidden": false
      }
    },
    {
      "cell_type": "code",
      "source": [
        "pred = pd.DataFrame(pred[:,0], columns=[\"radiant_win_%\"])\n",
        "train = pred[:ntrain]\n",
        "train.index = train_main.index\n",
        "test = pred[ntrain:]\n",
        "test.index = test_main.index"
      ],
      "outputs": [],
      "execution_count": 43,
      "metadata": {
        "collapsed": false,
        "outputHidden": false,
        "inputHidden": false
      }
    },
    {
      "cell_type": "code",
      "source": [
        "try:\n",
        "    processed_dir = os.path.join(input_dir, \"processed\")\n",
        "    os.mkdir(processed_dir)\n",
        "except:\n",
        "    pass\n",
        "finally:\n",
        "    train.to_csv(\n",
        "        os.path.join(processed_dir, \"train_team.csv\")\n",
        "    )\n",
        "    test.to_csv(\n",
        "        os.path.join(processed_dir, \"test_team.csv\")\n",
        "    )"
      ],
      "outputs": [],
      "execution_count": 44,
      "metadata": {
        "collapsed": false,
        "outputHidden": false,
        "inputHidden": false
      }
    },
    {
      "cell_type": "code",
      "source": [],
      "outputs": [],
      "execution_count": null,
      "metadata": {
        "collapsed": false,
        "outputHidden": false,
        "inputHidden": false
      }
    }
  ],
  "metadata": {
    "kernel_info": {
      "name": "python3"
    },
    "language_info": {
      "name": "python",
      "version": "3.6.5",
      "mimetype": "text/x-python",
      "codemirror_mode": {
        "name": "ipython",
        "version": 3
      },
      "pygments_lexer": "ipython3",
      "nbconvert_exporter": "python",
      "file_extension": ".py"
    },
    "kernelspec": {
      "name": "python3",
      "language": "python",
      "display_name": "Python 3"
    },
    "nteract": {
      "version": "0.12.3"
    }
  },
  "nbformat": 4,
  "nbformat_minor": 4
}